{
 "cells": [
  {
   "cell_type": "code",
   "execution_count": 1,
   "id": "8674a42b",
   "metadata": {},
   "outputs": [
    {
     "name": "stdout",
     "output_type": "stream",
     "text": [
      "Cuda is on: True\n"
     ]
    }
   ],
   "source": [
    "import numpy as np\n",
    "import torch\n",
    "import pandas as pd \n",
    "import matplotlib.pyplot as plt\n",
    "import torch.nn.functional as F\n",
    "import math\n",
    "from torch.utils.data import DataLoader\n",
    "from torch.utils.data import Dataset\n",
    "from tqdm import tqdm\n",
    "import csv\n",
    "\n",
    "cuda = True if torch.cuda.is_available() else False\n",
    "print(f'Cuda is on: {cuda}')\n",
    "Tensor = torch.cuda.FloatTensor if cuda else torch.FloatTensor\n",
    "device = torch.device('cuda:0' if torch.cuda.is_available() else 'cpu')"
   ]
  },
  {
   "cell_type": "code",
   "execution_count": 11,
   "id": "211fb0fd",
   "metadata": {},
   "outputs": [],
   "source": [
    "class CausalConv2d(torch.nn.Conv2d):\n",
    "    \n",
    "    ''' Causal Convolutional Neural Network in 1-D. Basically a special case of CNN-1d\n",
    "    so its generator inherents from torch.nn.Conv1d class.\n",
    "\n",
    "    '''\n",
    "    def __init__(self,\n",
    "                 in_channels,\n",
    "                 out_channels,\n",
    "                 kernel_size,\n",
    "                 stride = 1,\n",
    "                 dilation = 1,\n",
    "                 groups = 1,\n",
    "                 bias = True):\n",
    "        \n",
    "        super(CausalConv2d, self).__init__(\n",
    "            in_channels,\n",
    "            out_channels,\n",
    "            kernel_size = kernel_size,\n",
    "            padding = 0,\n",
    "            stride = stride,\n",
    "            dilation = dilation,\n",
    "            groups = groups,\n",
    "            bias = True)\n",
    "        \n",
    "        self.__padding = (kernel_size[1] - 1) * dilation\n",
    "        \n",
    "    def forward(self, input):\n",
    "        return super(CausalConv2d, self).forward(F.pad(input, (0,self.__padding)))\n",
    "    \n"
   ]
  },
  {
   "cell_type": "code",
   "execution_count": 12,
   "id": "abcbbf21",
   "metadata": {},
   "outputs": [],
   "source": [
    "class context_embedding(torch.nn.Module):\n",
    "    \n",
    "    '''\n",
    "       Embedding the context. You can understand this as construct a model using causal CNN.\n",
    "       However, the return value is sigmoided.\n",
    "    '''\n",
    "    def __init__(self,\n",
    "                 in_channels = 1,\n",
    "                 embedding_size = 256,\n",
    "                 k = 5):\n",
    "        super(context_embedding, self).__init__()\n",
    "        \n",
    "        self.causal_convolution = CausalConv2d(in_channels,\n",
    "                                               embedding_size,\n",
    "                                               kernel_size = k)\n",
    "        \n",
    "    def forward(self, x):\n",
    "        \n",
    "        x = self.causal_convolution(x)\n",
    "        \n",
    "        return F.sigmoid(x)"
   ]
  },
  {
   "cell_type": "code",
   "execution_count": 13,
   "id": "e7338b4d",
   "metadata": {},
   "outputs": [],
   "source": [
    "class GetData(Dataset):\n",
    "    \n",
    "    '''\n",
    "        Get dataset \n",
    "    '''\n",
    "    \n",
    "    def __init__(self,target,feature,t0=96,to_predict = 24,transform=None):\n",
    "        \n",
    "        self.t0 = t0 # known time step\n",
    "        self.transform = None\n",
    "        \n",
    "        length = target.shape[0]\n",
    "        step = t0+to_predict ##step in one data point (known + topredict)\n",
    "        \n",
    "        eff_len = length - step + 1 ## effective length of the whole time series i.e. can be break in to how many data points\n",
    "        \n",
    "        Y = []\n",
    "        F = []\n",
    "        \n",
    "        for i in range(eff_len):\n",
    "            Y.append(target[i:step+i].unsqueeze(0))## size * time step\n",
    "            F.append(feature[i:step+i].unsqueeze(0).permute(0,2,1)) ## size * feature size * time step\n",
    "        \n",
    "        self.target = torch.cat(Y) ## size * dimension\n",
    "        self.feature = torch.cat(F)\n",
    "        \n",
    "        \n",
    "        \n",
    "        self.time = torch.cat(eff_len*[torch.arange(0,step).type(torch.float).unsqueeze(0)])\n",
    "        \n",
    "        \n",
    "        self.masks = self._generate_square_subsequent_mask(t0)\n",
    "                \n",
    "        \n",
    "        # print out shapes to confirm desired output\n",
    "        print(self.time.shape)   \n",
    "        print(self.target.shape)\n",
    "        \n",
    "    def __len__(self):\n",
    "        return self.target.shape[0]\n",
    "    \n",
    "    def __getitem__(self,idx):\n",
    "        if torch.is_tensor(idx):\n",
    "            idx = idx.tolist()\n",
    "            \n",
    "        \n",
    "        sample = (self.time[idx,:],\n",
    "                  self.target[idx,:],\n",
    "                  self.feature[idx,:],\n",
    "                  self.masks) #in tuple shape, will be called in training, eval and testing.\n",
    "        \n",
    "        if self.transform:\n",
    "            sample=self.transform(sample)\n",
    "            \n",
    "        return sample\n",
    "    \n",
    "    def _generate_square_subsequent_mask(self,t0):\n",
    "        mask = torch.zeros(t0+to_predict,t0+to_predict)\n",
    "        for i in range(0,t0):\n",
    "            mask[i,t0:] = 1 \n",
    "        for i in range(t0,t0+to_predict):\n",
    "            mask[i,i:] = 1\n",
    "        mask = mask.float().masked_fill(mask == 1, float('-inf'))#.masked_fill(mask == 1, float(0.0))\n",
    "        return mask"
   ]
  },
  {
   "cell_type": "code",
   "execution_count": 14,
   "id": "df79942c",
   "metadata": {},
   "outputs": [],
   "source": [
    "#model\n",
    "\n",
    "class TransformerTimeSeries(torch.nn.Module):\n",
    "    \"\"\"\n",
    "    Time Series application of transformers based on paper\n",
    "    \n",
    "    causal_convolution_layer parameters:\n",
    "        in_channels: the number of features per time point\n",
    "        out_channels: the number of features outputted per time point\n",
    "        kernel_size: k is the width of the 1-D sliding kernel\n",
    "        \n",
    "    nn.Transformer parameters:\n",
    "        d_model: the size of the embedding vector (input)\n",
    "    \n",
    "    PositionalEncoding parameters:\n",
    "        d_model: the size of the embedding vector (positional vector)\n",
    "        dropout: the dropout to be used on the sum of positional+embedding vector\n",
    "    \n",
    "    \"\"\"\n",
    "    def __init__(self,feature_dim,nhead = 16,num_layers = 8,d_model = 512,conv_len = 5,feature_weight = True,embedding_weight = True):\n",
    "        super(TransformerTimeSeries,self).__init__()\n",
    "        self.feature_weight = feature_weight\n",
    "        self.embedding_weight = embedding_weight\n",
    "        self.feature_dim = feature_dim\n",
    "        self.input_embedding_y = context_embedding(1,d_model,(1,conv_len))\n",
    "        \n",
    "        if feature_weight:\n",
    "            self.input_embedding_f = context_embedding(1,d_model,(1,conv_len))\n",
    "            self.feature_projection = torch.nn.Linear(feature_dim,1)\n",
    "        else:\n",
    "            self.input_embedding_f = context_embedding(1,d_model,(feature_dim,conv_len))\n",
    "        \n",
    "        \n",
    "        \n",
    "        if embedding_weight:\n",
    "            self.embbeding_projection = torch.nn.Linear(3,1)\n",
    "            \n",
    "        self.bn = torch.nn.BatchNorm2d(1)\n",
    "        self.positional_embedding = torch.nn.Embedding(2*d_model,d_model)\n",
    "        self.decode_layer = torch.nn.TransformerEncoderLayer(d_model=d_model,nhead=nhead)\n",
    "        self.transformer_decoder = torch.nn.TransformerEncoder(self.decode_layer, num_layers = num_layers)\n",
    "        \n",
    "        self.fc1 = torch.nn.Linear(d_model,1)\n",
    "\n",
    "        \n",
    "    def forward(self,x,y,feature,attention_masks):\n",
    "        \n",
    "        \n",
    "        z = y.unsqueeze(1).unsqueeze(1) ## reshape it so it can be processed by 2D CNN\n",
    "        z = self.bn(z) ##Batch Norm\n",
    "        \n",
    "        if self.feature_dim > 1:    \n",
    "            f = feature.unsqueeze(1)## embedding of nulti-dim feature\n",
    "        \n",
    "        else:\n",
    "            f = feature.unsqueeze(1).unsqueeze(1) ## One dim feature \n",
    "        \n",
    "        # input_embedding returns shape (Batch size,embedding size,sequence len) -> need (sequence len,Batch size,embedding_size)\n",
    "        z_embedding = self.input_embedding_y(z).squeeze().permute(2,0,1) ## embedding of target\n",
    "        \n",
    "        if self.feature_weight:\n",
    "            \n",
    "            f_embedding = self.input_embedding_f(f).squeeze()\n",
    "            f_embedding = f_embedding.permute(0,1,3,2) ## multi dim feature\n",
    "            f_embedding = self.feature_projection(f_embedding).squeeze() ## linear combination of features' embeddings\n",
    "            f_embedding = f_embedding.permute(2,0,1)\n",
    "            \n",
    "        else:\n",
    "            f_embedding = self.input_embedding_f(f).squeeze().permute(2,0,1)\n",
    "            \n",
    "        # get my positional embeddings (Batch size, sequence_len, embedding_size) -> need (sequence len,Batch size,embedding_size)\n",
    "        positional_embeddings = self.positional_embedding(x.type(torch.long)).permute(1,0,2)\n",
    "        \n",
    "    \n",
    "        if self.embedding_weight:\n",
    "            all_embedding = torch.cat([z_embedding.unsqueeze(3),positional_embeddings.unsqueeze(3),f_embedding.unsqueeze(3)],3)\n",
    "            input_embedding = self.embbeding_projection(all_embedding)## the linear combination of three embeddings\n",
    "            input_embedding = input_embedding.squeeze()\n",
    "        else:\n",
    "            input_embedding = z_embedding + positional_embeddings + f_embedding ## add up directly\n",
    "        \n",
    "        transformer_embedding = self.transformer_decoder(input_embedding,attention_masks)\n",
    "        \n",
    "        output = self.fc1(transformer_embedding.permute(1,0,2))\n",
    "        \n",
    "\n",
    "        return output"
   ]
  },
  {
   "cell_type": "markdown",
   "id": "26538a4b",
   "metadata": {},
   "source": [
    "#### Above is model definition"
   ]
  },
  {
   "cell_type": "code",
   "execution_count": 15,
   "id": "60e007f4",
   "metadata": {},
   "outputs": [],
   "source": [
    "t0 = 5 ## number of input\n",
    "to_predict = 1 ## days to predict\n",
    "criterion = torch.nn.MSELoss()"
   ]
  },
  {
   "cell_type": "markdown",
   "id": "5b98c6bb",
   "metadata": {},
   "source": [
    "## Visualize  output"
   ]
  },
  {
   "cell_type": "code",
   "execution_count": 39,
   "id": "aa763bf7",
   "metadata": {},
   "outputs": [],
   "source": [
    "stock = 'AAPL'  ## you may change to AMZN or GOOG or AAPL_12"
   ]
  },
  {
   "cell_type": "markdown",
   "id": "98058b01",
   "metadata": {},
   "source": [
    "##### For visualization, please specify which stocks, you may choose AAPL, AMZN, GOOG, and AAPL_12 (12 year version)"
   ]
  },
  {
   "cell_type": "code",
   "execution_count": 40,
   "id": "db08aa76",
   "metadata": {},
   "outputs": [],
   "source": [
    "file_name = f'{stock}_features.csv'\n",
    "##load data\n",
    "with open(file_name) as f:\n",
    "    data_list = csv.reader(f)\n",
    "    data = []\n",
    "    for row in data_list:\n",
    "        data.append(row)\n",
    "    f.close()\n",
    "    \n",
    "data = torch.tensor(np.delete(np.array(data)[1:,2:],4,axis = 1).astype(np.float)).type(torch.float)\n",
    "## drop the adj close\n",
    "\n",
    "\n",
    "feature_dim = data.shape[1] - 1\n",
    "## get feature dimension\n",
    "rate = []\n",
    "for i in range(1,data.shape[0]):\n",
    "    rate.append((100*(data[i,0:4] - data[i-1,0:4])/data[i-1,0:4]).reshape(1,4))\n",
    "## convert OHLC to rate    \n",
    "rate = torch.cat(rate)\n",
    "rate_data = torch.cat([rate,data[1:,4:]],1)\n",
    "train_size = int(data.shape[0]*0.9)\n",
    "data_train = rate_data[0:train_size]\n",
    "data_test = rate_data[train_size-4:]\n"
   ]
  },
  {
   "cell_type": "markdown",
   "id": "203e911a",
   "metadata": {},
   "source": [
    "##### graphing"
   ]
  },
  {
   "cell_type": "code",
   "execution_count": 43,
   "id": "be434f00",
   "metadata": {},
   "outputs": [],
   "source": [
    "To_load = f'{stock}' \n",
    "## This is for open price. If to see the High, Low, and Close, change f'{stock}' to f'{stock}_H\n",
    "##f'{stock}_L f'{stock}_C respectivly"
   ]
  },
  {
   "cell_type": "markdown",
   "id": "37ce1956",
   "metadata": {},
   "source": [
    "##### This is for open price. If to see the High, Low, and Close, change f'{stock}' to f'{stock}_H, or f'{stock}_L , or f'{stock}_C respectivly. \n",
    "##### Note that AAPL_12 only have Open price prediction"
   ]
  },
  {
   "cell_type": "code",
   "execution_count": 44,
   "id": "87be048a",
   "metadata": {},
   "outputs": [
    {
     "name": "stdout",
     "output_type": "stream",
     "text": [
      "torch.Size([431, 6])\n",
      "torch.Size([431, 6])\n",
      "torch.Size([47, 6])\n",
      "torch.Size([47, 6])\n",
      "AAPL MAE is 0.24553631246089935\n",
      "AAPL MSE is 0.26247721910476685\n",
      "AAPL RMSE is 0.5123253059382943\n"
     ]
    },
    {
     "name": "stderr",
     "output_type": "stream",
     "text": [
      "/opt/conda/lib/python3.7/site-packages/torch/nn/functional.py:1944: UserWarning: nn.functional.sigmoid is deprecated. Use torch.sigmoid instead.\n",
      "  warnings.warn(\"nn.functional.sigmoid is deprecated. Use torch.sigmoid instead.\")\n"
     ]
    },
    {
     "data": {
      "image/png": "[encoded data removed]",
      "text/plain": [
       "<Figure size 432x288 with 1 Axes>"
      ]
     },
     "metadata": {
      "needs_background": "light"
     },
     "output_type": "display_data"
    }
   ],
   "source": [
    "train_dataset = GetData(data_train[:,0],data_train[:,1:],t0 = t0, to_predict = to_predict)\n",
    "test_dataset = GetData(data_test[:,0],data_test[:,1:],t0 = t0, to_predict = to_predict)\n",
    "\n",
    "train_dl = DataLoader(train_dataset,batch_size=256,shuffle=True)\n",
    "test_dl = DataLoader(test_dataset,batch_size=512)\n",
    "\n",
    "bmodel = TransformerTimeSeries(feature_dim = feature_dim,\n",
    "                                  nhead = 4,num_layers = 12,d_model = 512,\n",
    "                                  conv_len = 5,feature_weight = True,embedding_weight = True)\n",
    "\n",
    "bmodel.load_state_dict(torch.load(To_load))## load model\n",
    "bmodel.to(device)\n",
    "bmodel.eval()\n",
    "with torch.no_grad(): # eliminate gradient i.e. gradients only exists in train()\n",
    "\n",
    "    for step,(x,y,feature,attention_masks) in enumerate(test_dl):\n",
    "        x = x.to(device)\n",
    "        y = y.to(device)\n",
    "        feature = feature.to(device)\n",
    "        attention_masks = attention_masks.to(device)\n",
    "        output = bmodel(x,y,feature,attention_masks[0])\n",
    "        \n",
    "        pred = data[train_size + 1 :-1,0]*0.01*(100+output[:,t0:].squeeze()).detach().cpu() #prediction\n",
    "        ## note that test set starts at index train_size + 1 because idex train_size in rate_data \n",
    "        ## is the last day of first test data point, but rate_data only have the second til last data points\n",
    "        ## of the dataset.\n",
    "        real = data[train_size + 1 :-1,0]*0.01*(100+y[:,t0:].squeeze()).detach().cpu()##real data\n",
    "\n",
    "        plt.plot(pred)\n",
    "        plt.plot(real)\n",
    "        plt.legend(['pred','real'])##plot\n",
    "        MAE = torch.nn.L1Loss()(pred,real).item()\n",
    "        MSE = torch.nn.MSELoss()(pred,real).item()\n",
    "        RMSE = np.sqrt(MSE)\n",
    "        \n",
    "        print(f'{stock} MAE is {MAE}')\n",
    "        print(f'{stock} MSE is {MSE}')\n",
    "        print(f'{stock} RMSE is {RMSE}')##print loss"
   ]
  },
  {
   "cell_type": "code",
   "execution_count": null,
   "id": "b26259b0",
   "metadata": {},
   "outputs": [],
   "source": []
  },
  {
   "cell_type": "code",
   "execution_count": null,
   "id": "bb26cbc7",
   "metadata": {},
   "outputs": [],
   "source": []
  },
  {
   "cell_type": "code",
   "execution_count": null,
   "id": "1aaca0ce",
   "metadata": {},
   "outputs": [],
   "source": []
  },
  {
   "cell_type": "code",
   "execution_count": null,
   "id": "55a0f713",
   "metadata": {},
   "outputs": [],
   "source": []
  },
  {
   "cell_type": "code",
   "execution_count": null,
   "id": "1759e15c",
   "metadata": {},
   "outputs": [],
   "source": []
  },
  {
   "cell_type": "code",
   "execution_count": null,
   "id": "48fcecc8",
   "metadata": {},
   "outputs": [],
   "source": []
  },
  {
   "cell_type": "code",
   "execution_count": null,
   "id": "8bf3cee1",
   "metadata": {},
   "outputs": [],
   "source": []
  }
 ],
 "metadata": {
  "kernelspec": {
   "display_name": "Python 3",
   "language": "python",
   "name": "python3"
  },
  "language_info": {
   "codemirror_mode": {
    "name": "ipython",
    "version": 3
   },
   "file_extension": ".py",
   "mimetype": "text/x-python",
   "name": "python",
   "nbconvert_exporter": "python",
   "pygments_lexer": "ipython3",
   "version": "3.7.12"
  }
 },
 "nbformat": 4,
 "nbformat_minor": 5
}
